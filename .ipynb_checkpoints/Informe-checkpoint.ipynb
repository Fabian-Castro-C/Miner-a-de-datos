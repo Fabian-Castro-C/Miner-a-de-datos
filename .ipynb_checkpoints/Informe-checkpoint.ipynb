{
 "cells": [
  {
   "cell_type": "markdown",
   "id": "8e682edb-c99c-4f84-be88-b8b62d53ff46",
   "metadata": {},
   "source": [
    "# Minería de datos en ciencias de materiales\r\n",
    "Fabián Castro\r\n",
    "Sebastian Monteiro\r\n",
    "Simón\r\n",
    "Dylan\r\n",
    "Benjamín Mancilla\r\n",
    "\r\n",
    "## Motivación\r\n",
    "La ciencia de materiales es un campo en constante evolución que desempeña un papel fundamental en la creación de tecnologías innovadoras y en la mejora de los materiales existentes para una amplia gama de aplicaciones. En este contexto, la minería de datos emerge como una poderosa herramienta que nos permite desentrañar patrones, descubrir relaciones y extraer información valiosa a partir de vastos conjuntos de datos relacionados con materiales.\r\n",
    "\r\n",
    "Existen poderosas bases de datos que han utilizado algoritmos complejos y supercomputadoras para predecir propiedades de materiales. Una base de datos famosa y ampliamente utilizada debido a la calidad de sus datos es *Materials Project*, la cual presenta información de más de 150,000 materiales. Por lo tanto, encontrar patrones en las propiedades desemboca en un área para la minería de datos.\r\n",
    "\r\n",
    "## *Materials Project*\r\n",
    "*Materials Project* cuenta con una API especialmente diseñada para el acceso a esta base de datos no SQL escrita en MongoDB. Dado la vasta cantidad de datos, se presentará el código utilizado para extraelos d**atos, **pero NO se sugiere ejecutar este código** ya que tarda bastante en ejecutarse.\r\n"
   ]
  }
 ],
 "metadata": {
  "kernelspec": {
   "display_name": "Python 3 (ipykernel)",
   "language": "python",
   "name": "python3"
  },
  "language_info": {
   "codemirror_mode": {
    "name": "ipython",
    "version": 3
   },
   "file_extension": ".py",
   "mimetype": "text/x-python",
   "name": "python",
   "nbconvert_exporter": "python",
   "pygments_lexer": "ipython3",
   "version": "3.9.12"
  }
 },
 "nbformat": 4,
 "nbformat_minor": 5
}
