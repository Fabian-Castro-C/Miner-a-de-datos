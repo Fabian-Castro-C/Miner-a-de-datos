{
  "cells": [
    {
      "cell_type": "code",
      "execution_count": 2,
      "id": "e6590947-37c9-4955-864d-90a3141f6bba",
      "metadata": {
        "id": "e6590947-37c9-4955-864d-90a3141f6bba"
      },
      "outputs": [
        {
          "name": "stderr",
          "output_type": "stream",
          "text": [
            "d:\\Universidad\\Semestre 10\\Minería de datos\\Proyecto\\Ambiente virtual\\MPApi\\lib\\site-packages\\tqdm\\auto.py:21: TqdmWarning: IProgress not found. Please update jupyter and ipywidgets. See https://ipywidgets.readthedocs.io/en/stable/user_install.html\n",
            "  from .autonotebook import tqdm as notebook_tqdm\n"
          ]
        }
      ],
      "source": [
        "from mp_api.client import MPRester"
      ]
    },
    {
      "cell_type": "code",
      "execution_count": 3,
      "id": "d87094b8-abfb-48a2-bb76-d732f1d3a866",
      "metadata": {
        "colab": {
          "referenced_widgets": [
            "b06aed3d79bd4f89be19021a8a219d47"
          ]
        },
        "id": "d87094b8-abfb-48a2-bb76-d732f1d3a866",
        "outputId": "94e552a6-d1a8-436e-aee6-1e2fb6b6d96a"
      },
      "outputs": [
        {
          "name": "stderr",
          "output_type": "stream",
          "text": [
            "d:\\Universidad\\Semestre 10\\Minería de datos\\Proyecto\\Ambiente virtual\\MPApi\\lib\\site-packages\\mp_api\\client\\mprester.py:192: UserWarning: mpcontribs-client not installed. Install the package to query MPContribs data, or construct pourbaix diagrams: 'pip install mpcontribs-client'\n",
            "  warnings.warn(\n",
            "Retrieving MaterialsDoc documents: 100%|██████████| 128/128 [00:00<?, ?it/s]"
          ]
        },
        {
          "name": "stdout",
          "output_type": "stream",
          "text": [
            "128\n"
          ]
        },
        {
          "name": "stderr",
          "output_type": "stream",
          "text": [
            "\n"
          ]
        }
      ],
      "source": [
        "api_key = \"Dzhoeg8v6DxzxNhjhYjRosxnYIr5mT9i\"\n",
        "\n",
        "elements = [\"Li\",\"Mn\",\"Ni\",\"O\"]\n",
        "query_params = {\"deprecated\": False}\n",
        "\n",
        "# Crea una instancia de MPRester con tu clave de API\n",
        "with MPRester(api_key) as mpr:\n",
        "    # Define la consulta de MongoDB para incluir solo los elementos deseado\n",
        "    # Utiliza el método _search con la consulta de MongoDB\n",
        "    results = mpr.materials.search(elements=elements)\n",
        "\n",
        "print(len(results))\n"
      ]
    },
    {
      "cell_type": "code",
      "execution_count": 4,
      "id": "e2f0d708-d295-4762-967d-5012b60acf2e",
      "metadata": {
        "id": "e2f0d708-d295-4762-967d-5012b60acf2e"
      },
      "outputs": [],
      "source": [
        "from pymatgen.core import Element\n",
        "\n",
        "# Lista de símbolos de elementos\n",
        "simbolos_elementos = [\"Li\", \"Mn\", \"Ni\", \"O\"]\n",
        "\n",
        "# Crea objetos Element a partir de los símbolos de elementos\n",
        "elementos = [Element(element) for element in simbolos_elementos]\n",
        "\n",
        "filtered_results = [material for material in results if set(material.elements)==set(elementos)]\n",
        "filtered_results = [material for material in filtered_results if material.composition.get_atomic_fraction(Element(\"O\"))/material.composition.get_atomic_fraction(Element(\"Li\")) == 4.0]"
      ]
    },
    {
      "cell_type": "code",
      "execution_count": 5,
      "id": "4369b753-59a7-46aa-8b1e-17cc06e95e44",
      "metadata": {
        "id": "4369b753-59a7-46aa-8b1e-17cc06e95e44",
        "outputId": "ba897cfc-925b-4f7f-b8e1-e1cfdfef96d4"
      },
      "outputs": [
        {
          "name": "stdout",
          "output_type": "stream",
          "text": [
            "Li8Mn15NiO32\n",
            "Li2Mn3NiO8\n",
            "Li2Mn3NiO8\n",
            "Li2Mn3NiO8\n",
            "Li2Mn3NiO8\n",
            "Li2Mn3NiO8\n",
            "Li2Mn3NiO8\n",
            "Li2Mn3NiO8\n",
            "LiMnNiO4\n",
            "Li2MnNi3O8\n",
            "Li2MnNi3O8\n",
            "Li2MnNi3O8\n",
            "Li4Mn5Ni3O16\n",
            "Li2MnNi3O8\n",
            "Li2MnNi3O8\n",
            "Li3Mn5(NiO6)2\n",
            "Li3Mn2Ni5O12\n"
          ]
        },
        {
          "data": {
            "text/plain": [
              "[MPID(mp-772976),\n",
              " MPID(mp-753229),\n",
              " MPID(mp-769631),\n",
              " MPID(mp-1177919),\n",
              " MPID(mp-775284),\n",
              " MPID(mp-775319),\n",
              " MPID(mp-771112),\n",
              " MPID(mp-771971),\n",
              " MPID(mp-756366),\n",
              " MPID(mp-752530),\n",
              " MPID(mp-1400982),\n",
              " MPID(mp-758714),\n",
              " MPID(mp-756534),\n",
              " MPID(mp-756193),\n",
              " MPID(mp-774906),\n",
              " MPID(mp-758709),\n",
              " MPID(mp-758846)]"
            ]
          },
          "execution_count": 5,
          "metadata": {},
          "output_type": "execute_result"
        }
      ],
      "source": [
        "def x_prop(material):\n",
        "    # Calcula la proporcion de Mn y Ni de LNMO\n",
        "    # LiNixMn2-xO4\n",
        "    x = 2*material.composition.get_atomic_fraction(Element(\"Ni\"))/(material.composition.get_atomic_fraction(Element(\"Ni\"))+material.composition.get_atomic_fraction(Element(\"Mn\")))\n",
        "    return x\n",
        "\n",
        "filtered_results = [material for material in filtered_results if 0 < x_prop(material) < 2]\n",
        "\n",
        "for i in range(len(filtered_results)):\n",
        "    print(filtered_results[i].formula_pretty)\n",
        "\n",
        "mp = [filtered_results[i].material_id for i in range(len(filtered_results))]\n",
        "mp\n",
        "\n",
        "# LNMO_ids = [material]"
      ]
    },
    {
      "cell_type": "code",
      "execution_count": 6,
      "id": "12af4127-496b-4585-a8b6-2b3f8a84e041",
      "metadata": {
        "colab": {
          "referenced_widgets": [
            "b455053a1bc942dcbc761adc10f6f0b3"
          ]
        },
        "id": "12af4127-496b-4585-a8b6-2b3f8a84e041",
        "outputId": "5c1c5173-064b-4de6-9cd4-80b0a8638d8b"
      },
      "outputs": [
        {
          "name": "stderr",
          "output_type": "stream",
          "text": [
            "Retrieving ThermoDoc documents: 100%|██████████| 34/34 [00:00<?, ?it/s]\n"
          ]
        }
      ],
      "source": [
        "with MPRester(api_key) as mpr:\n",
        "    results = mpr.materials.thermo.search(material_ids = mp)"
      ]
    },
    {
      "cell_type": "code",
      "execution_count": 7,
      "id": "f74f5929-a7a0-48d6-ab56-dfd6ac8bf011",
      "metadata": {
        "id": "f74f5929-a7a0-48d6-ab56-dfd6ac8bf011"
      },
      "outputs": [],
      "source": [
        "results = [results[2*i+1] for i in range(int(len(results)/2))]"
      ]
    },
    {
      "cell_type": "code",
      "execution_count": 8,
      "id": "e57a5558-51c8-482b-a502-bd509c8ce11b",
      "metadata": {
        "id": "e57a5558-51c8-482b-a502-bd509c8ce11b",
        "outputId": "0ef3913d-4a66-44cc-ccd1-d9d032a8fc09"
      },
      "outputs": [
        {
          "name": "stdout",
          "output_type": "stream",
          "text": [
            "[MPID(mp-752530), MPID(mp-753229), MPID(mp-756193), MPID(mp-756366), MPID(mp-756534), MPID(mp-758709), MPID(mp-758714), MPID(mp-758846), MPID(mp-769631), MPID(mp-771112), MPID(mp-771971), MPID(mp-772976), MPID(mp-774906), MPID(mp-775284), MPID(mp-775319), MPID(mp-1177919), MPID(mp-1400982)]\n",
            "[MPID(mp-752530), MPID(mp-753229), MPID(mp-756193), MPID(mp-756366), MPID(mp-756534), MPID(mp-758709), MPID(mp-758714), MPID(mp-758846), MPID(mp-769631), MPID(mp-771112), MPID(mp-771971), MPID(mp-772976), MPID(mp-774906), MPID(mp-775284), MPID(mp-775319), MPID(mp-1177919), MPID(mp-1400982)]\n",
            "\u001b[4m\u001b[1mMPDataDoc<MaterialsDoc>\u001b[0;0m\u001b[0;0m\n",
            "\u001b[1mbuilder_meta\u001b[0;0m=EmmetMeta(emmet_version='0.37.0', pymatgen_version='2022.4.19', pull_request=825, database_version='2022.10.28', build_date=datetime.datetime(2022, 10, 19, 1, 23, 47, 65000)),\n",
            "\u001b[1mnsites\u001b[0;0m=14,\n",
            "\u001b[1melements\u001b[0;0m=[Element Li, Element Mn, Element Ni, Element O],\n",
            "\u001b[1mnelements\u001b[0;0m=4,\n",
            "\u001b[1mcomposition\u001b[0;0m=Composition('Li2 Mn1 Ni3 O8'),\n",
            "\u001b[1mcomposition_reduced\u001b[0;0m=Composition('Li2 Mn1 Ni3 O8'),\n",
            "\u001b[1mformula_pretty\u001b[0;0m='Li2MnNi3O8',\n",
            "\u001b[1mformula_anonymous\u001b[0;0m='AB2C3D8',\n",
            "\u001b[1mchemsys\u001b[0;0m='Li-Mn-Ni-O',\n",
            "\u001b[1mvolume\u001b[0;0m=138.39430787464318,\n",
            "\u001b[1mdensity\u001b[0;0m=4.474226315294458,\n",
            "\u001b[1mdensity_atomic\u001b[0;0m=9.885307705331655,\n",
            "\u001b[1msymmetry\u001b[0;0m=SymmetryData(crystal_system=<CrystalSystem.mono: 'Monoclinic'>, symbol='C2/m', number=12, point_group='2/m', symprec=0.1, version='1.16.2'),\n",
            "\u001b[1mmaterial_id\u001b[0;0m=MPID(mp-752530),\n",
            "\u001b[1mstructure\u001b[0;0m=Structure Summary\n",
            "Lattice\n",
            "    abc : 5.737655968177684 5.865979916439282 5.7421040245767925\n",
            " angles : 60.960463777273965 60.026225384398685 60.72075929933105\n",
            " volume : 138.39430787464318\n",
            "      A : -6.9e-05 2.99401 -4.894548\n",
            "      B : -5.116392 1.456226 -2.472177\n",
            "      C : -1.631006 5.505593 0.004876\n",
            "    pbc : True True True\n",
            "PeriodicSite: Li (-2.558, 0.7281, -1.236) [0.0, 0.5, 0.0]\n",
            "PeriodicSite: Li (-2.558, 2.225, -3.683) [0.5, 0.5, 0.0]\n",
            "PeriodicSite: Mn (-0.8156, 5.747, -4.892) [1.0, 4e-06, 0.5]\n",
            "PeriodicSite: Ni (-0.8155, 4.25, -2.445) [0.5, 0.0, 0.5]\n",
            "PeriodicSite: Ni (-1.631e-06, 5.506e-06, 4.876e-09) [0.0, 0.0, 1e-06]\n",
            "PeriodicSite: Ni (-3.613e-05, 1.497, -2.447) [0.5, 0.0, 1e-06]\n",
            "PeriodicSite: O (-4.414, 4.555, -5.621) [0.7468, 0.7956, 0.2107]\n",
            "PeriodicSite: O (-2.333, 5.401, -1.74) [0.2532, 0.2044, 0.7893]\n",
            "PeriodicSite: O (-4.444, 3.108, -3.143) [0.2396, 0.7974, 0.2233]\n",
            "PeriodicSite: O (-2.303, 6.848, -4.219) [0.7604, 0.2026, 0.7767]\n",
            "PeriodicSite: O (-5.255, 7.52, -5.575) [0.7424, 0.7867, 0.7541]\n",
            "PeriodicSite: O (-5.255, 5.947, -3.002) [0.2168, 0.7867, 0.7541]\n",
            "PeriodicSite: O (-1.493, 4.009, -4.359) [0.7832, 0.2133, 0.2459]\n",
            "PeriodicSite: O (-1.493, 2.436, -1.787) [0.2576, 0.2133, 0.2459],\n",
            "\u001b[1mdeprecated\u001b[0;0m=False,\n",
            "\u001b[1mdeprecation_reasons\u001b[0;0m=None,\n",
            "\u001b[1minitial_structures\u001b[0;0m=[Structure Summary\n",
            "Lattice\n",
            "    abc : 5.701828792893096 5.7688229865832765 5.879955002980427\n",
            " angles : 60.62327047008341 61.38606069150496 59.610560790009885\n",
            " volume : 138.3632030939246\n",
            "      A : -1.59298464 5.47468779 -0.03232835\n",
            "      B : 0.0 3.01032095 -4.92110622\n",
            "      C : -5.12305679 1.42729337 -2.50818532\n",
            "    pbc : True True True\n",
            "PeriodicSite: Li (-2.562, 0.7136, -1.254) [0.0, 0.0, 0.5]\n",
            "PeriodicSite: Li (-2.562, 2.219, -3.715) [0.0, 0.5, 0.5]\n",
            "PeriodicSite: Mn (-0.7965, 2.737, -0.01616) [0.5, 0.0, 0.0]\n",
            "PeriodicSite: Ni (-0.7965, 4.243, -2.477) [0.5, 0.5, 0.0]\n",
            "PeriodicSite: Ni (0.0, 0.0, 0.0) [0.0, 0.0, 0.0]\n",
            "PeriodicSite: Ni (0.0, 1.505, -2.461) [0.0, 0.5, 0.0]\n",
            "PeriodicSite: O (-5.227, 7.447, -5.658) [0.7462, 0.7431, 0.7882]\n",
            "PeriodicSite: O (-5.227, 5.88, -3.096) [0.7462, 0.2225, 0.7882]\n",
            "PeriodicSite: O (-4.462, 4.589, -5.646) [0.2239, 0.7374, 0.8014]\n",
            "PeriodicSite: O (-4.451, 3.11, -3.17) [0.2303, 0.2362, 0.7972]\n",
            "PeriodicSite: O (-2.265, 6.802, -4.292) [0.7697, 0.7638, 0.2028]\n",
            "PeriodicSite: O (-2.254, 5.323, -1.816) [0.7761, 0.2626, 0.1986]\n",
            "PeriodicSite: O (-1.489, 4.032, -4.366) [0.2538, 0.7775, 0.2118]\n",
            "PeriodicSite: O (-1.489, 2.465, -1.804) [0.2538, 0.2569, 0.2118], Structure Summary\n",
            "Lattice\n",
            "    abc : 5.7450217295941535 5.7450217295941535 5.89360178362943\n",
            " angles : 60.49069136984383 60.49069136984383 59.93964560067341\n",
            " volume : 138.49348599682344\n",
            "      A : 2.86989 4.976847 0.0\n",
            "      B : -2.86989 4.976847 0.0\n",
            "      C : 0.0 3.351056 4.848192\n",
            "    pbc : True True True\n",
            "PeriodicSite: Li (0.0, 4.977, 0.0) [0.5, 0.5, 0.0]\n",
            "PeriodicSite: Li (0.0, 0.0, 0.0) [0.0, 0.0, 0.0]\n",
            "PeriodicSite: Mn (0.0, 6.652, 2.424) [0.5, 0.5, 0.5]\n",
            "PeriodicSite: Ni (0.0, 1.676, 2.424) [0.0, 0.0, 0.5]\n",
            "PeriodicSite: Ni (-1.435, 4.164, 2.424) [0.0, 0.5, 0.5]\n",
            "PeriodicSite: Ni (1.435, 4.164, 2.424) [0.5, 0.0, 0.5]\n",
            "PeriodicSite: O (-1.362, 7.571, 3.461) [0.2829, 0.7577, 0.7138]\n",
            "PeriodicSite: O (1.362, 7.571, 3.461) [0.7577, 0.2829, 0.7138]\n",
            "PeriodicSite: O (0.0, 9.859, 3.416) [0.7532, 0.7532, 0.7046]\n",
            "PeriodicSite: O (0.0, 4.948, 3.408) [0.2604, 0.2604, 0.7029]\n",
            "PeriodicSite: O (0.0, 8.357, 1.44) [0.7396, 0.7396, 0.2971]\n",
            "PeriodicSite: O (0.0, 3.446, 1.432) [0.2468, 0.2468, 0.2954]\n",
            "PeriodicSite: O (-1.362, 5.734, 1.387) [0.2423, 0.7171, 0.2862]\n",
            "PeriodicSite: O (1.362, 5.734, 1.387) [0.7171, 0.2423, 0.2862], Structure Summary\n",
            "Lattice\n",
            "    abc : 5.720633252425556 5.704947373184962 5.852633648165243\n",
            " angles : 60.831290218848594 61.06991830270438 60.09066420391142\n",
            " volume : 137.06487832420385\n",
            "      A : -1.625086 5.484944 0.011385\n",
            "      B : 0.0 2.976989 -4.866617\n",
            "      C : -5.110184 1.443876 -2.460602\n",
            "    pbc : True True True\n",
            "PeriodicSite: Li (-2.555, 0.7219, -1.23) [0.0, 0.0, 0.5]\n",
            "PeriodicSite: Li (-2.555, 2.21, -3.664) [0.0, 0.5, 0.5]\n",
            "PeriodicSite: Mn (-0.8125, 2.742, 0.005692) [0.5, 0.0, 0.0]\n",
            "PeriodicSite: Ni (-0.8125, 4.231, -2.428) [0.5, 0.5, 0.0]\n",
            "PeriodicSite: Ni (0.0, 0.0, 0.0) [0.0, 0.0, 0.0]\n",
            "PeriodicSite: Ni (0.0, 1.488, -2.433) [0.0, 0.5, 0.0]\n",
            "PeriodicSite: O (-5.245, 7.486, -5.534) [0.7554, 0.7414, 0.7862]\n",
            "PeriodicSite: O (-5.245, 5.924, -2.982) [0.7554, 0.2169, 0.7862]\n",
            "PeriodicSite: O (-4.413, 4.53, -5.589) [0.2112, 0.7462, 0.7965]\n",
            "PeriodicSite: O (-4.436, 3.085, -3.128) [0.2222, 0.2402, 0.7973]\n",
            "PeriodicSite: O (-2.3, 6.821, -4.187) [0.7778, 0.7598, 0.2027]\n",
            "PeriodicSite: O (-2.322, 5.376, -1.727) [0.7888, 0.2538, 0.2035]\n",
            "PeriodicSite: O (-1.49, 3.981, -4.334) [0.2446, 0.7831, 0.2138]\n",
            "PeriodicSite: O (-1.49, 2.42, -1.782) [0.2446, 0.2586, 0.2138]],\n",
            "\u001b[1mtask_ids\u001b[0;0m=[MPID(mp-762850), MPID(mp-1362868), MPID(mp-1397200), MPID(mp-1303689), MPID(mp-1306142), MPID(mp-752530), MPID(mp-1290633), MPID(mp-1315661), MPID(mp-1291396), MPID(mp-1277599), MPID(mp-1318104), MPID(mp-1319186), MPID(mp-895376), MPID(mp-1280615), MPID(mp-1321862), MPID(mp-1277568), MPID(mp-1306054), MPID(mp-1275730), MPID(mp-1321760), MPID(mp-1313866), MPID(mp-1312339), MPID(mp-1302369), MPID(mp-894648), MPID(mp-1311866), MPID(mp-1321240), MPID(mp-1306463), MPID(mp-1317040), MPID(mp-1292592), MPID(mp-1320962), MPID(mp-1305499), MPID(mp-1310121), MPID(mp-1302046), MPID(mp-880656), MPID(mp-1280594), MPID(mp-1310868), MPID(mp-1308312)],\n",
            "\u001b[1mdeprecated_tasks\u001b[0;0m=['mp-752530'],\n",
            "\u001b[1mcalc_types\u001b[0;0m={'mp-762850': <CalcType.GGA_U_Structure_Optimization: 'GGA+U Structure Optimization'>, 'mp-894648': <CalcType.GGA_U_NSCF_Uniform: 'GGA+U NSCF Uniform'>, 'mp-880656': <CalcType.GGA_U_Static: 'GGA+U Static'>, 'mp-752530': <CalcType.GGA_Structure_Optimization: 'GGA Structure Optimization'>, 'mp-1292592': <CalcType.GGA_U_Structure_Optimization: 'GGA+U Structure Optimization'>, 'mp-1280594': <CalcType.GGA_U_Static: 'GGA+U Static'>, 'mp-1280615': <CalcType.GGA_U_Static: 'GGA+U Static'>, 'mp-1290633': <CalcType.GGA_U_Structure_Optimization: 'GGA+U Structure Optimization'>, 'mp-1277568': <CalcType.GGA_U_Structure_Optimization: 'GGA+U Structure Optimization'>, 'mp-1277599': <CalcType.GGA_U_Static: 'GGA+U Static'>, 'mp-1275730': <CalcType.GGA_U_Static: 'GGA+U Static'>, 'mp-1291396': <CalcType.GGA_U_Static: 'GGA+U Static'>, 'mp-1312339': <CalcType.GGA_U_Structure_Optimization: 'GGA+U Structure Optimization'>, 'mp-1310121': <CalcType.GGA_U_Static: 'GGA+U Static'>, 'mp-1310868': <CalcType.GGA_U_Structure_Optimization: 'GGA+U Structure Optimization'>, 'mp-1313866': <CalcType.GGA_U_Static: 'GGA+U Static'>, 'mp-1306463': <CalcType.GGA_U_Structure_Optimization: 'GGA+U Structure Optimization'>, 'mp-1319186': <CalcType.GGA_U_Structure_Optimization: 'GGA+U Structure Optimization'>, 'mp-1302046': <CalcType.GGA_U_Static: 'GGA+U Static'>, 'mp-1317040': <CalcType.GGA_U_Static: 'GGA+U Static'>, 'mp-1311866': <CalcType.GGA_U_Structure_Optimization: 'GGA+U Structure Optimization'>, 'mp-1303689': <CalcType.GGA_U_Structure_Optimization: 'GGA+U Structure Optimization'>, 'mp-1315661': <CalcType.GGA_U_Static: 'GGA+U Static'>, 'mp-1320962': <CalcType.GGA_U_Structure_Optimization: 'GGA+U Structure Optimization'>, 'mp-1306054': <CalcType.GGA_U_Structure_Optimization: 'GGA+U Structure Optimization'>, 'mp-1308312': <CalcType.GGA_U_Structure_Optimization: 'GGA+U Structure Optimization'>, 'mp-1302369': <CalcType.GGA_U_Structure_Optimization: 'GGA+U Structure Optimization'>, 'mp-1321760': <CalcType.GGA_U_Static: 'GGA+U Static'>, 'mp-1306142': <CalcType.GGA_U_Static: 'GGA+U Static'>, 'mp-1318104': <CalcType.GGA_U_Static: 'GGA+U Static'>, 'mp-1321862': <CalcType.GGA_U_Structure_Optimization: 'GGA+U Structure Optimization'>, 'mp-1305499': <CalcType.GGA_U_Static: 'GGA+U Static'>, 'mp-1321240': <CalcType.GGA_U_Structure_Optimization: 'GGA+U Structure Optimization'>, 'mp-1362868': <CalcType.GGA_U_Static: 'GGA+U Static'>, 'mp-1397200': <CalcType.GGA_U_Static: 'GGA+U Static'>, 'mp-895376': <CalcType.GGA_U_NSCF_Line: 'GGA+U NSCF Line'>},\n",
            "\u001b[1mlast_updated\u001b[0;0m=datetime.datetime(2021, 2, 20, 9, 14, 11, 475000),\n",
            "\u001b[1mcreated_at\u001b[0;0m=datetime.datetime(2014, 2, 14, 19, 16, 41),\n",
            "\u001b[1morigins\u001b[0;0m=[PropertyOrigin(name='structure', task_id=MPID(mp-1313866), last_updated=datetime.datetime(2020, 4, 28, 23, 49, 54, 859000))],\n",
            "\u001b[1mwarnings\u001b[0;0m=[],\n",
            "\u001b[1mtask_types\u001b[0;0m={'mp-762850': <TaskType.Structure_Optimization: 'Structure Optimization'>, 'mp-894648': <TaskType.NSCF_Uniform: 'NSCF Uniform'>, 'mp-880656': <TaskType.Static: 'Static'>, 'mp-752530': <TaskType.Structure_Optimization: 'Structure Optimization'>, 'mp-1292592': <TaskType.Structure_Optimization: 'Structure Optimization'>, 'mp-1280594': <TaskType.Static: 'Static'>, 'mp-1280615': <TaskType.Static: 'Static'>, 'mp-1290633': <TaskType.Structure_Optimization: 'Structure Optimization'>, 'mp-1277568': <TaskType.Structure_Optimization: 'Structure Optimization'>, 'mp-1277599': <TaskType.Static: 'Static'>, 'mp-1275730': <TaskType.Static: 'Static'>, 'mp-1291396': <TaskType.Static: 'Static'>, 'mp-1312339': <TaskType.Structure_Optimization: 'Structure Optimization'>, 'mp-1310121': <TaskType.Static: 'Static'>, 'mp-1310868': <TaskType.Structure_Optimization: 'Structure Optimization'>, 'mp-1313866': <TaskType.Static: 'Static'>, 'mp-1306463': <TaskType.Structure_Optimization: 'Structure Optimization'>, 'mp-1319186': <TaskType.Structure_Optimization: 'Structure Optimization'>, 'mp-1302046': <TaskType.Static: 'Static'>, 'mp-1317040': <TaskType.Static: 'Static'>, 'mp-1311866': <TaskType.Structure_Optimization: 'Structure Optimization'>, 'mp-1303689': <TaskType.Structure_Optimization: 'Structure Optimization'>, 'mp-1315661': <TaskType.Static: 'Static'>, 'mp-1320962': <TaskType.Structure_Optimization: 'Structure Optimization'>, 'mp-1306054': <TaskType.Structure_Optimization: 'Structure Optimization'>, 'mp-1308312': <TaskType.Structure_Optimization: 'Structure Optimization'>, 'mp-1302369': <TaskType.Structure_Optimization: 'Structure Optimization'>, 'mp-1321760': <TaskType.Static: 'Static'>, 'mp-1306142': <TaskType.Static: 'Static'>, 'mp-1318104': <TaskType.Static: 'Static'>, 'mp-1321862': <TaskType.Structure_Optimization: 'Structure Optimization'>, 'mp-1305499': <TaskType.Static: 'Static'>, 'mp-1321240': <TaskType.Structure_Optimization: 'Structure Optimization'>, 'mp-1362868': <TaskType.Static: 'Static'>, 'mp-1397200': <TaskType.Static: 'Static'>, 'mp-895376': <TaskType.NSCF_Line: 'NSCF Line'>},\n",
            "\u001b[1mrun_types\u001b[0;0m={'mp-762850': <RunType.GGA_U: 'GGA+U'>, 'mp-894648': <RunType.GGA_U: 'GGA+U'>, 'mp-880656': <RunType.GGA_U: 'GGA+U'>, 'mp-752530': <RunType.GGA: 'GGA'>, 'mp-1292592': <RunType.GGA_U: 'GGA+U'>, 'mp-1280594': <RunType.GGA_U: 'GGA+U'>, 'mp-1280615': <RunType.GGA_U: 'GGA+U'>, 'mp-1290633': <RunType.GGA_U: 'GGA+U'>, 'mp-1277568': <RunType.GGA_U: 'GGA+U'>, 'mp-1277599': <RunType.GGA_U: 'GGA+U'>, 'mp-1275730': <RunType.GGA_U: 'GGA+U'>, 'mp-1291396': <RunType.GGA_U: 'GGA+U'>, 'mp-1312339': <RunType.GGA_U: 'GGA+U'>, 'mp-1310121': <RunType.GGA_U: 'GGA+U'>, 'mp-1310868': <RunType.GGA_U: 'GGA+U'>, 'mp-1313866': <RunType.GGA_U: 'GGA+U'>, 'mp-1306463': <RunType.GGA_U: 'GGA+U'>, 'mp-1319186': <RunType.GGA_U: 'GGA+U'>, 'mp-1302046': <RunType.GGA_U: 'GGA+U'>, 'mp-1317040': <RunType.GGA_U: 'GGA+U'>, 'mp-1311866': <RunType.GGA_U: 'GGA+U'>, 'mp-1303689': <RunType.GGA_U: 'GGA+U'>, 'mp-1315661': <RunType.GGA_U: 'GGA+U'>, 'mp-1320962': <RunType.GGA_U: 'GGA+U'>, 'mp-1306054': <RunType.GGA_U: 'GGA+U'>, 'mp-1308312': <RunType.GGA_U: 'GGA+U'>, 'mp-1302369': <RunType.GGA_U: 'GGA+U'>, 'mp-1321760': <RunType.GGA_U: 'GGA+U'>, 'mp-1306142': <RunType.GGA_U: 'GGA+U'>, 'mp-1318104': <RunType.GGA_U: 'GGA+U'>, 'mp-1321862': <RunType.GGA_U: 'GGA+U'>, 'mp-1305499': <RunType.GGA_U: 'GGA+U'>, 'mp-1321240': <RunType.GGA_U: 'GGA+U'>, 'mp-1362868': <RunType.GGA_U: 'GGA+U'>, 'mp-1397200': <RunType.GGA_U: 'GGA+U'>, 'mp-895376': <RunType.GGA_U: 'GGA+U'>},\n",
            "\u001b[1mentries\u001b[0;0m={<RunType.GGA_U: 'GGA+U'>: mp-752530-GGA+U ComputedStructureEntry - Li2 Mn1 Ni3 O8 (Li2MnNi3O8)\n",
            "Energy (Uncorrected)     = -74.8632  eV (-5.3474  eV/atom)\n",
            "Correction               = 0.0000    eV (0.0000   eV/atom)\n",
            "Energy (Final)           = -74.8632  eV (-5.3474  eV/atom)\n",
            "Energy Adjustments:\n",
            "  None\n",
            "Parameters:\n",
            "  potcar_spec            = [{'titel': 'PAW_PBE Li_sv 23Jan2001', 'hash': '4799bab014a83a07c654d7196c8ecfa9'}, {'titel': 'PAW_PBE Mn_pv 07Sep2000', 'hash': 'fa52f891f234d49bb4cb5ea96aae8f98'}, {'titel': 'PAW_PBE Ni_pv 06Sep2000', 'hash': '252a974c7f603c1f24e30fd36a0dba30'}, {'titel': 'PAW_PBE O 08Apr2002', 'hash': '7a25bc5b9a5393f46600a4939d357982'}]\n",
            "  is_hubbard             = True\n",
            "  hubbards               = {'Li': 0.0, 'Mn': 3.9, 'Ni': 6.2, 'O': 0.0}\n",
            "  run_type               = GGA+U\n",
            "Data:\n",
            "  oxide_type             = oxide\n",
            "  aspherical             = True\n",
            "  last_updated           = 2020-04-28 23:49:54.859000\n",
            "  task_id                = mp-1313866\n",
            "  material_id            = mp-752530}\n",
            "\n",
            "\u001b[1mFields not requested:\u001b[0;0m\n",
            "[]\n"
          ]
        }
      ],
      "source": [
        "def obtener_id(object):\n",
        "    return object.material_id\n",
        "\n",
        "# Ordena ambas listas en función del atributo \"id\"\n",
        "results_mat = sorted(filtered_results, key=obtener_id)\n",
        "results_therm = sorted(results, key=obtener_id)\n",
        "\n",
        "# Ahora ambas listas están ordenadas de la misma manera según el atributo \"id\"\n",
        "print([results.material_id for results in results_mat])\n",
        "print([results.material_id for results in results_therm])\n",
        "\n",
        "print(results_mat[0])"
      ]
    },
    {
      "cell_type": "code",
      "execution_count": 9,
      "id": "14fbc9dd-5409-470d-9a65-9af0aeb6024e",
      "metadata": {
        "id": "14fbc9dd-5409-470d-9a65-9af0aeb6024e",
        "outputId": "1942a8c5-7eaf-4856-96fb-f8c4bcbdde60"
      },
      "outputs": [
        {
          "name": "stdout",
          "output_type": "stream",
          "text": [
            "[1.  0.5]\n",
            "[1.5        0.5        1.5        0.75       0.57142857 1.5\n",
            " 1.42857143 0.5        0.5        0.125      1.5        0.5\n",
            " 0.5        0.5        1.5       ]\n",
            "[-1.70721094 -1.94819464]\n",
            "[-1.41117507 -1.87575004 -1.44115112 -1.76970958 -1.86442785 -1.40539807\n",
            " -1.52355863 -1.93639748 -1.90422406 -2.03176771 -1.44915259 -1.88166151\n",
            " -1.87457943 -1.89784608  1.7179651 ]\n"
          ]
        },
        {
          "data": {
            "image/png": "[encoded data removed]",
            "text/plain": [
              "<Figure size 640x480 with 1 Axes>"
            ]
          },
          "metadata": {},
          "output_type": "display_data"
        }
      ],
      "source": [
        "import matplotlib.pyplot as plt\n",
        "import numpy as np\n",
        "\n",
        "x_stable = np.array([x_prop(results_mat[i]) for i in range(len(results_mat)) if results_therm[i].is_stable])\n",
        "x_unstable = np.array([x_prop(results_mat[i]) for i in range(len(results_mat)) if not results_therm[i].is_stable])\n",
        "\n",
        "print(x_stable)\n",
        "print(x_unstable)\n",
        "\n",
        "y_stable = np.array([results_therm[i].formation_energy_per_atom for i in range(len(results_mat)) if results_therm[i].is_stable])\n",
        "y_unstable = np.array([results_therm[i].formation_energy_per_atom for i in range(len(results_mat)) if not results_therm[i].is_stable])\n",
        "\n",
        "print(y_stable)\n",
        "print(y_unstable)\n",
        "\n",
        "# \n",
        "plt.figure(0)\n",
        "plt.scatter(x_unstable,y_unstable, color=\"red\")\n",
        "plt.scatter(x_stable,y_stable, color=\"blue\")\n",
        "plt.show()"
      ]
    }
  ],
  "metadata": {
    "colab": {
      "provenance": []
    },
    "kernelspec": {
      "display_name": "Python 3 (ipykernel)",
      "language": "python",
      "name": "python3"
    },
    "language_info": {
      "codemirror_mode": {
        "name": "ipython",
        "version": 3
      },
      "file_extension": ".py",
      "mimetype": "text/x-python",
      "name": "python",
      "nbconvert_exporter": "python",
      "pygments_lexer": "ipython3",
      "version": "3.9.12"
    }
  },
  "nbformat": 4,
  "nbformat_minor": 5
}
