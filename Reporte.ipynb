{
 "cells": [
  {
   "cell_type": "markdown",
   "metadata": {},
   "source": [
    "# Minería de datos en ciencias de materiales\n",
    "- Fabián Castro Contreras \n",
    "- Sebastian Monteiro \n",
    "- Simón Campos Rojas \n",
    "- Dylan Riquelme  \n",
    "- Benjamín Mancilla\n",
    "\n",
    "## Introducción: Problema y Motivación\n",
    "La ciencia de materiales es un campo en constante evolución que desempeña un papel fundamental en la creación de tecnologías innovadoras y en la mejora de los materiales existentes para una amplia gama de aplicaciones. En este contexto, la minería de datos emerge como una poderosa herramienta que nos permite desentrañar patrones, descubrir relaciones y extraer información valiosa a partir de vastos conjuntos de datos relacionados con materiales.\n",
    "\n",
    "Existen poderosas bases de datos que han utilizado algoritmos complejos y supercomputadoras para predecir propiedades de materiales. Una base de datos famosa y ampliamente utilizada debido a la calidad de sus datos es *Materials Project*, la cual presenta información de más de 150,000 materiales. Por lo tanto, encontrar patrones en las propiedades desemboca en un área para la minería de datos.\n",
    "\n",
    "## Materials Project\n",
    "*Materials Project* cuenta con una API especialmente diseñada para el acceso a esta base de datos no SQL escrita en MongoDB. Dado la vasta cantidad de datos, se presentará el código utilizado para extraer los datos, pero **NO se sugiere ejecutar este código** ya que tarda bastante en descargar todo.\n",
    "\n",
    "La API utilizada se llama *mp_api* y puede ser instalada usando *pip*.\n",
    "\n",
    "La base de datos contiene varias clases, las cuales hay que descargar una por una con las propiedades de interés."
   ]
  },
  {
   "cell_type": "markdown",
   "metadata": {},
   "source": [
    "# Exploración de Datos"
   ]
  },
  {
   "cell_type": "markdown",
   "metadata": {},
   "source": [
    "## 1.- Consiguiendo los datos:\n",
    "\n",
    "En primera instancia, se obtiene una llave mediante una cuenta creada en la pagina de *Materials Project* para acceder a la base de datos de la misma, luego se descargan los datos y se almacenan en archivos .csv. Despues se crea un repositorio en *Github* con todos los datos, los requerimientos para el proyecto (librerias) y los archivos *.ipynb* para el futuro codigo. \n",
    "Para revisar los atributos extraídos para cada clase o dataset, ir a la [tabla anexada](#tabla-de-atributos)."
   ]
  },
  {
   "cell_type": "markdown",
   "metadata": {},
   "source": [
    "## 2.- Limpieza de datos\n",
    "\n",
    "A priori no ser requiere una limpieza de datos tan exhaustiva para los datos, dado que *Materials Project* tiene los datasets muy completos. Sin embargo, se tuvo que eliminar una columna repetida llamada *\"Unnamed: 0\"* porque correspondían a los ID´s repetidos y se dejaron todas las columnas solicitadas en el query inicial.\n",
    "\n",
    "Luego se procede a unir los dataframes mediante un merge en base a la ID de cada objeto, para facilitar la exploración de datos y la interpretación de estos, resultando en un dataframe con 7290 filas y 22 columnas. A continuación se muestran los primeros 5 objetos del dataframe:"
   ]
  },
  {
   "cell_type": "code",
   "execution_count": null,
   "metadata": {},
   "outputs": [
    {
     "data": {
      "text/html": [
       "<div>\n",
       "<style scoped>\n",
       "    .dataframe tbody tr th:only-of-type {\n",
       "        vertical-align: middle;\n",
       "    }\n",
       "\n",
       "    .dataframe tbody tr th {\n",
       "        vertical-align: top;\n",
       "    }\n",
       "\n",
       "    .dataframe thead th {\n",
       "        text-align: right;\n",
       "    }\n",
       "</style>\n",
       "<table border=\"1\" class=\"dataframe\">\n",
       "  <thead>\n",
       "    <tr style=\"text-align: right;\">\n",
       "      <th></th>\n",
       "      <th>material_id</th>\n",
       "      <th>e_total</th>\n",
       "      <th>e_ionic</th>\n",
       "      <th>e_electronic</th>\n",
       "      <th>n</th>\n",
       "      <th>band_gap</th>\n",
       "      <th>efermi</th>\n",
       "      <th>is_metal</th>\n",
       "      <th>is_magnetic</th>\n",
       "      <th>exchange_symmetry</th>\n",
       "      <th>...</th>\n",
       "      <th>volume</th>\n",
       "      <th>density</th>\n",
       "      <th>density_atomic</th>\n",
       "      <th>possible_species</th>\n",
       "      <th>possible_valences</th>\n",
       "      <th>average_oxidation_states</th>\n",
       "      <th>energy_per_atom</th>\n",
       "      <th>formation_energy_per_atom</th>\n",
       "      <th>equilibrium_reaction_energy_per_atom</th>\n",
       "      <th>decomposition_enthalpy</th>\n",
       "    </tr>\n",
       "  </thead>\n",
       "  <tbody>\n",
       "    <tr>\n",
       "      <th>0</th>\n",
       "      <td>mp-28944</td>\n",
       "      <td>21.521069</td>\n",
       "      <td>13.942520</td>\n",
       "      <td>7.578549</td>\n",
       "      <td>2.752916</td>\n",
       "      <td>1.5135</td>\n",
       "      <td>1.973873</td>\n",
       "      <td>False</td>\n",
       "      <td>False</td>\n",
       "      <td>186</td>\n",
       "      <td>...</td>\n",
       "      <td>208.023425</td>\n",
       "      <td>5.939485</td>\n",
       "      <td>34.670571</td>\n",
       "      <td>['Bi3+', 'Cl-', 'Te2-']</td>\n",
       "      <td>[3.0, 3.0, -2.0, -2.0, -1.0, -1.0]</td>\n",
       "      <td>{'Bi': 3.0, 'Te': -2.0, 'Cl': -1.0}</td>\n",
       "      <td>-3.902939</td>\n",
       "      <td>-0.958829</td>\n",
       "      <td>-0.051867</td>\n",
       "      <td>-0.051867</td>\n",
       "    </tr>\n",
       "    <tr>\n",
       "      <th>1</th>\n",
       "      <td>mp-28096</td>\n",
       "      <td>3.218928</td>\n",
       "      <td>0.598031</td>\n",
       "      <td>2.620897</td>\n",
       "      <td>1.618918</td>\n",
       "      <td>2.8804</td>\n",
       "      <td>-1.097983</td>\n",
       "      <td>False</td>\n",
       "      <td>False</td>\n",
       "      <td>43</td>\n",
       "      <td>...</td>\n",
       "      <td>465.547991</td>\n",
       "      <td>1.926612</td>\n",
       "      <td>29.096749</td>\n",
       "      <td>['S+', 'Cl-']</td>\n",
       "      <td>[1.0, 1.0, 1.0, 1.0, 1.0, 1.0, 1.0, 1.0, -1.0,...</td>\n",
       "      <td>{'S': 1.0, 'Cl': -1.0}</td>\n",
       "      <td>-3.466514</td>\n",
       "      <td>-0.474021</td>\n",
       "      <td>-0.075092</td>\n",
       "      <td>-0.075092</td>\n",
       "    </tr>\n",
       "    <tr>\n",
       "      <th>2</th>\n",
       "      <td>mp-863678</td>\n",
       "      <td>10.737604</td>\n",
       "      <td>6.585117</td>\n",
       "      <td>4.152487</td>\n",
       "      <td>2.037765</td>\n",
       "      <td>1.6514</td>\n",
       "      <td>2.395559</td>\n",
       "      <td>False</td>\n",
       "      <td>False</td>\n",
       "      <td>146</td>\n",
       "      <td>...</td>\n",
       "      <td>261.201622</td>\n",
       "      <td>5.454615</td>\n",
       "      <td>13.060081</td>\n",
       "      <td>['O2-', 'K+', 'Sb5+', 'Zn2+']</td>\n",
       "      <td>[1.0, 2.0, 2.0, 2.0, 2.0, 5.0, 5.0, 5.0, -2.0,...</td>\n",
       "      <td>{'K': 1.0, 'Zn': 2.0, 'Sb': 5.0, 'O': -2.0}</td>\n",
       "      <td>-5.816968</td>\n",
       "      <td>-1.922136</td>\n",
       "      <td>-0.022649</td>\n",
       "      <td>-0.022649</td>\n",
       "    </tr>\n",
       "    <tr>\n",
       "      <th>3</th>\n",
       "      <td>mp-10461</td>\n",
       "      <td>13.624477</td>\n",
       "      <td>9.998830</td>\n",
       "      <td>3.625647</td>\n",
       "      <td>1.904113</td>\n",
       "      <td>2.9095</td>\n",
       "      <td>2.551343</td>\n",
       "      <td>False</td>\n",
       "      <td>False</td>\n",
       "      <td>167</td>\n",
       "      <td>...</td>\n",
       "      <td>331.052135</td>\n",
       "      <td>5.052121</td>\n",
       "      <td>15.047824</td>\n",
       "      <td>['O2-', 'Sb5+', 'Na+', 'Sr2+']</td>\n",
       "      <td>[1.0, 1.0, 2.0, 2.0, 2.0, 2.0, 2.0, 2.0, 5.0, ...</td>\n",
       "      <td>{'Na': 1.0, 'Sr': 2.0, 'Sb': 5.0, 'O': -2.0}</td>\n",
       "      <td>-6.392569</td>\n",
       "      <td>-2.738011</td>\n",
       "      <td>-0.088787</td>\n",
       "      <td>-0.086070</td>\n",
       "    </tr>\n",
       "    <tr>\n",
       "      <th>4</th>\n",
       "      <td>mp-8756</td>\n",
       "      <td>8.849831</td>\n",
       "      <td>4.815258</td>\n",
       "      <td>4.034573</td>\n",
       "      <td>2.008625</td>\n",
       "      <td>2.5447</td>\n",
       "      <td>0.345471</td>\n",
       "      <td>False</td>\n",
       "      <td>False</td>\n",
       "      <td>129</td>\n",
       "      <td>...</td>\n",
       "      <td>146.040316</td>\n",
       "      <td>2.842588</td>\n",
       "      <td>24.340053</td>\n",
       "      <td>['Li+', 'Se2-', 'K+']</td>\n",
       "      <td>[1.0, 1.0, 1.0, 1.0, -2.0, -2.0]</td>\n",
       "      <td>{'K': 1.0, 'Li': 1.0, 'Se': -2.0}</td>\n",
       "      <td>-3.542389</td>\n",
       "      <td>-1.370645</td>\n",
       "      <td>-0.034785</td>\n",
       "      <td>-0.034785</td>\n",
       "    </tr>\n",
       "  </tbody>\n",
       "</table>\n",
       "<p>5 rows × 22 columns</p>\n",
       "</div>"
      ],
      "text/plain": [
       "  material_id    e_total    e_ionic  e_electronic         n  band_gap  \\\n",
       "0    mp-28944  21.521069  13.942520      7.578549  2.752916    1.5135   \n",
       "1    mp-28096   3.218928   0.598031      2.620897  1.618918    2.8804   \n",
       "2   mp-863678  10.737604   6.585117      4.152487  2.037765    1.6514   \n",
       "3    mp-10461  13.624477   9.998830      3.625647  1.904113    2.9095   \n",
       "4     mp-8756   8.849831   4.815258      4.034573  2.008625    2.5447   \n",
       "\n",
       "     efermi  is_metal  is_magnetic  exchange_symmetry  ...      volume  \\\n",
       "0  1.973873     False        False                186  ...  208.023425   \n",
       "1 -1.097983     False        False                 43  ...  465.547991   \n",
       "2  2.395559     False        False                146  ...  261.201622   \n",
       "3  2.551343     False        False                167  ...  331.052135   \n",
       "4  0.345471     False        False                129  ...  146.040316   \n",
       "\n",
       "    density  density_atomic                possible_species  \\\n",
       "0  5.939485       34.670571         ['Bi3+', 'Cl-', 'Te2-']   \n",
       "1  1.926612       29.096749                   ['S+', 'Cl-']   \n",
       "2  5.454615       13.060081   ['O2-', 'K+', 'Sb5+', 'Zn2+']   \n",
       "3  5.052121       15.047824  ['O2-', 'Sb5+', 'Na+', 'Sr2+']   \n",
       "4  2.842588       24.340053           ['Li+', 'Se2-', 'K+']   \n",
       "\n",
       "                                   possible_valences  \\\n",
       "0                 [3.0, 3.0, -2.0, -2.0, -1.0, -1.0]   \n",
       "1  [1.0, 1.0, 1.0, 1.0, 1.0, 1.0, 1.0, 1.0, -1.0,...   \n",
       "2  [1.0, 2.0, 2.0, 2.0, 2.0, 5.0, 5.0, 5.0, -2.0,...   \n",
       "3  [1.0, 1.0, 2.0, 2.0, 2.0, 2.0, 2.0, 2.0, 5.0, ...   \n",
       "4                   [1.0, 1.0, 1.0, 1.0, -2.0, -2.0]   \n",
       "\n",
       "                       average_oxidation_states energy_per_atom  \\\n",
       "0           {'Bi': 3.0, 'Te': -2.0, 'Cl': -1.0}       -3.902939   \n",
       "1                        {'S': 1.0, 'Cl': -1.0}       -3.466514   \n",
       "2   {'K': 1.0, 'Zn': 2.0, 'Sb': 5.0, 'O': -2.0}       -5.816968   \n",
       "3  {'Na': 1.0, 'Sr': 2.0, 'Sb': 5.0, 'O': -2.0}       -6.392569   \n",
       "4             {'K': 1.0, 'Li': 1.0, 'Se': -2.0}       -3.542389   \n",
       "\n",
       "  formation_energy_per_atom  equilibrium_reaction_energy_per_atom  \\\n",
       "0                 -0.958829                             -0.051867   \n",
       "1                 -0.474021                             -0.075092   \n",
       "2                 -1.922136                             -0.022649   \n",
       "3                 -2.738011                             -0.088787   \n",
       "4                 -1.370645                             -0.034785   \n",
       "\n",
       "   decomposition_enthalpy  \n",
       "0               -0.051867  \n",
       "1               -0.075092  \n",
       "2               -0.022649  \n",
       "3               -0.086070  \n",
       "4               -0.034785  \n",
       "\n",
       "[5 rows x 22 columns]"
      ]
     },
     "metadata": {},
     "output_type": "display_data"
    }
   ],
   "source": [
    "result.head()"
   ]
  },
  {
   "cell_type": "markdown",
   "metadata": {},
   "source": [
    "Notar que cada columna es un atributo físico de los materiales. Al hacer merge, algunos materiales ya no aparecen en la lista, se redujo la cantidad de filas de ~150.000 a ~7.000. \n",
    "Esto se produjo porque para el dataset de materiales dieléctricos no están los cálculos de todos Este análisis se realiza para poder hacer una mirada superficial a las matrices de covarianza, correlación y stats varias. Más adelante es posible que se trabaje con los dataframes por separado debido a la variedad de estructura entre los distintos materiales, o también de alguna forma establecer una estructura universal para poder realizar el merge, pero no perdiendo una cantidad de datos tan grandes."
   ]
  },
  {
   "cell_type": "markdown",
   "metadata": {},
   "source": [
    "Se obtienen 22 columnas al hacer merge entre los dataframes.\n"
   ]
  },
  {
   "cell_type": "code",
   "execution_count": null,
   "metadata": {},
   "outputs": [],
   "source": []
  },
  {
   "cell_type": "markdown",
   "metadata": {},
   "source": [
    "Algo que notar de este análisis estadístico es la presencia de outliers en los atributos e_total , e_ionic , e_electronic y n tienen percentiles y maximos muy distantes, como también una desviación estándar mas alta. Análisis posteriores darán mas luz sobre que hacer con estos outliers."
   ]
  },
  {
   "cell_type": "code",
   "execution_count": null,
   "metadata": {},
   "outputs": [],
   "source": []
  },
  {
   "cell_type": "markdown",
   "metadata": {},
   "source": [
    "Esta matriz de correlación indica varias cosas:\n",
    "- Hay una gran correlación entre la energia de reacción en equilibrio y la entalpia de descomposicion (0.93)\n",
    "- Entre la energía de fermi y la densidad hay una correlación interesante\n",
    "- Entre la energía total y n hay correlación de 0.4 y entre e_total y e_electronic hay una correlación de 0.44\n",
    "- Entre e_total y e_ionic hay una correlación de 0.93\n",
    "Sobre las demás relaciones, hay muy poco mas que se pueda rescatar."
   ]
  },
  {
   "cell_type": "code",
   "execution_count": null,
   "metadata": {},
   "outputs": [],
   "source": []
  },
  {
   "cell_type": "markdown",
   "metadata": {},
   "source": [
    "De la matriz de covarianza no se puede extraer mucho mas"
   ]
  },
  {
   "cell_type": "markdown",
   "metadata": {},
   "source": [
    "Para obtener una vista general de los datos de cada dataframe, primero se grafico en un histograma las frecuencias cada atributo. Para ello se evitaron aquellas columnas que contienen valores en string. Se dejo aparte el dataframe de oxidation_states, que no contiene valores numericos, y del dataframe material, la columna composition, que tiene la composicion quimica del material. Luego, se realizo un resumen estadistico de los atributos numericos. Calculando la cantidad de datos, media, desviacion estandar, minimo, los cuartiles y el maximo."
   ]
  },
  {
   "cell_type": "code",
   "execution_count": null,
   "metadata": {},
   "outputs": [],
   "source": []
  },
  {
   "cell_type": "markdown",
   "metadata": {},
   "source": [
    "Lo primero es notar es la presencia de la forma chi-cuadrado en algunos histogramas, como también algunas forma gaussianas. Estos histogramas permiten visualizar algunos thresholds para una futura limpieza de datos."
   ]
  },
  {
   "cell_type": "markdown",
   "metadata": {},
   "source": [
    "# Inquietudes a responder\n",
    " - ¿Podemos predecir el comportamiento de un material sin experimentar con el?\n",
    "- ¿Podemos encontrar nuevos patrones en materiales aparentemente distintos?\n",
    "- ¿Podemos clasificar los materiales sin saber nada de física?\n",
    "-¿Podemos encontrar materiales extraños, por ejemplo, material magnético que no sea metálico? \n",
    "\n"
   ]
  },
  {
   "cell_type": "code",
   "execution_count": null,
   "metadata": {},
   "outputs": [],
   "source": []
  },
  {
   "cell_type": "markdown",
   "metadata": {},
   "source": [
    "# Anexos"
   ]
  },
  {
   "cell_type": "markdown",
   "metadata": {},
   "source": [
    "## Tabla de atributos"
   ]
  },
  {
   "cell_type": "markdown",
   "metadata": {},
   "source": [
    "| Clase              | Atributos                                                                                        |\n",
    "|--------------------|----------------------------------------------------------------------------------------------------|\n",
    "| properties_mat (MaterialsDoc)    | material_id, composition, volume, density, density_atomic                                           |\n",
    "| properties_thermo (ThermoDoc) | material_id, energy_per_atom, formation_energy_per_atom, equilibrium_reaction_energy_per_atom, decomposition_enthalpy |\n",
    "| properties_electro (ElectroDoc) | material_id, band_gap, efermi, is_metal, is_stable                                                   |\n",
    "| properties_magnetic (MagneticDoc)| material_id, is_magnetic, exchange_symmetry, num_magnetic_sites                                       |\n",
    "| properties_dielectric (DielectricDoc) | material_id, e_total, e_ionic, e_electronic, n                                                       |\n",
    "| properties_oxidate_states (OxidationStateDoc) | material_id, possible_species, possible_valences, average_oxidation_states                        |\n"
   ]
  },
  {
   "cell_type": "markdown",
   "metadata": {},
   "source": [
    "Atributos extraídos según la información brindada en la [documentación de Materials Project](https://api.materialsproject.org/docs)."
   ]
  },
  {
   "cell_type": "markdown",
   "metadata": {},
   "source": []
  }
 ],
 "metadata": {
  "kernelspec": {
   "display_name": "MD_MP",
   "language": "python",
   "name": "python3"
  },
  "language_info": {
   "codemirror_mode": {
    "name": "ipython",
    "version": 3
   },
   "file_extension": ".py",
   "mimetype": "text/x-python",
   "name": "python",
   "nbconvert_exporter": "python",
   "pygments_lexer": "ipython3",
   "version": "3.10.9"
  }
 },
 "nbformat": 4,
 "nbformat_minor": 2
}
