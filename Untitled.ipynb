{
 "cells": [
  {
   "cell_type": "markdown",
   "id": "39027317-4611-416f-beca-2606449d8e98",
   "metadata": {},
   "source": [
    "# Materials Proyect EDA"
   ]
  },
  {
   "cell_type": "code",
   "execution_count": 10,
   "id": "6d381122-ee51-4227-a407-e1ddd69367d3",
   "metadata": {},
   "outputs": [],
   "source": [
    "from mp_api.client import MPRester\n",
    "\n",
    "api_key = \"Dzhoeg8v6DxzxNhjhYjRosxnYIr5mT9i\"\n",
    "\n",
    "# Nos interesa la distribución de la energía por atomo, band-gap y la densidado\n",
    "properties_mat = [\"material_id\", \"composition\", \"volume\", \"density\", \"density_atomic\"]\n",
    "properties_thermo = [\"material_id\", \"energy_per_atom\", \"formation_energy_per_atom\", \n",
    "                     \"equilibrium_reaction_energy_per_atom\", \"decomposition_enthalpy\"\n",
    "                    ]\n",
    "properties_electro = [\"material_id\", \"band_gap\", \"efermi\", \"is_metal\"]\n",
    "properties_magnetic = [\"material_id\", \"is_magnetic\", \"exchange_symmetry\", \"num_magnetic_sites\"]\n",
    "properties_dielectric = [\"material_id\", \"e_total\", \"e_ionic\", \"e_electronic\", \"n\"]\n",
    "properties_oxidate_states = [\"material_id\", \"possible_species\", \"possible_valences\", \"average_oxidation_states\"]\n",
    "    "
   ]
  },
  {
   "cell_type": "code",
   "execution_count": 22,
   "id": "6b560954-ca15-42b7-8959-289b062dd13d",
   "metadata": {},
   "outputs": [
    {
     "data": {
      "application/vnd.jupyter.widget-view+json": {
       "model_id": "8c4bf4dc122d44dea16d18ae6b191e0c",
       "version_major": 2,
       "version_minor": 0
      },
      "text/plain": [
       "Retrieving MaterialsDoc documents:   0%|          | 0/154718 [00:00<?, ?it/s]"
      ]
     },
     "metadata": {},
     "output_type": "display_data"
    }
   ],
   "source": [
    "#Fabian#\n",
    "with MPRester(api_key) as mpr:\n",
    "    mat_doc = mpr.materials.search(fields = properties_mat)\n",
    "\n",
    "import pandas as pd\n",
    "import matplotlib.pyplot as plt\n",
    "\n",
    "df_mat = pd.DataFrame([material.__dict__ for material in mat_doc])\n",
    "df_mat = df_mat[properties_mat]\n",
    "df_mat.to_csv(\"mat_doc\")\n"
   ]
  },
  {
   "cell_type": "code",
   "execution_count": 28,
   "id": "849cd005-8429-4edd-9a5f-6aa6e62273d7",
   "metadata": {},
   "outputs": [
    {
     "data": {
      "application/vnd.jupyter.widget-view+json": {
       "model_id": "7bac5caf839e4712a98a3b89eb897a36",
       "version_major": 2,
       "version_minor": 0
      },
      "text/plain": [
       "Retrieving ThermoDoc documents:   0%|          | 0/154718 [00:00<?, ?it/s]"
      ]
     },
     "metadata": {},
     "output_type": "display_data"
    }
   ],
   "source": [
    "#Fabian#\n",
    "with MPRester(api_key) as mpr:\n",
    "    thermo_doc = mpr.materials.thermo.search(fields = properties_thermo, thermo_types=[\"GGA_GGA+U\"])\n",
    "\n",
    "import pandas as pd\n",
    "import matplotlib.pyplot as plt\n",
    "\n",
    "df_thermo = pd.DataFrame([material.__dict__ for material in thermo_doc])\n",
    "df_thermo = df_thermo[properties_thermo]\n",
    "df_thermo.to_csv(\"thermo_doc\")"
   ]
  },
  {
   "cell_type": "code",
   "execution_count": null,
   "id": "adb8a1fb-4699-4753-bd54-5adbc45cfc31",
   "metadata": {},
   "outputs": [],
   "source": [
    "#Simon#\n",
    "with MPRester(api_key) as mpr:\n",
    "    electronic_doc = mpr.materials.electronic_structure.search(fields = properties_electro)\n",
    "\n",
    "import pandas as pd\n",
    "import matplotlib.pyplot as plt\n",
    "\n",
    "df_electro = pd.DataFrame([material.__dict__ for material in electronic_doc])\n",
    "df_electro = df_electro[properties_electro]\n",
    "df_electro.to_csv(\"electronic_doc\")"
   ]
  },
  {
   "cell_type": "code",
   "execution_count": null,
   "id": "ea959051-53df-4672-aa5f-d8cc2017aa2b",
   "metadata": {},
   "outputs": [],
   "source": [
    "#Dylan#\n",
    "with MPRester(api_key) as mpr:\n",
    "    magnetic_doc = mpr.materials.magnetism.search(fields = properties_magnetic)\n",
    "\n",
    "import pandas as pd\n",
    "import matplotlib.pyplot as plt\n",
    "\n",
    "df_magnetic = pd.DataFrame([material.__dict__ for material in magnetic_doc])\n",
    "df_magnetic = df_mat[properties_magnetic]\n",
    "df_magnetic.to_csv(\"magnetic_doc\")"
   ]
  },
  {
   "cell_type": "code",
   "execution_count": 12,
   "id": "408c6eb1-9ea7-4ddb-85ad-ca37f5ef22c3",
   "metadata": {},
   "outputs": [
    {
     "name": "stderr",
     "output_type": "stream",
     "text": [
      "C:\\Users\\Usuario\\Desktop\\MINERIA\\proyecto\\venv\\Lib\\site-packages\\mp_api\\client\\mprester.py:193: UserWarning: mpcontribs-client not installed. Install the package to query MPContribs data, or construct pourbaix diagrams: 'pip install mpcontribs-client'\n",
      "  warnings.warn(\n",
      "Retrieving DielectricDoc documents: 100%|████████████████████████████████████████████████| 7290/7290 [00:02<00:00, 2897.97it/s]\n"
     ]
    }
   ],
   "source": [
    "#Mancilla#\n",
    "with MPRester(api_key) as mpr:\n",
    "    dielectric_doc = mpr.materials.dielectric.search(fields = properties_dielectric)\n",
    "\n",
    "import pandas as pd\n",
    "import matplotlib.pyplot as plt\n",
    "\n",
    "df_dielectric = pd.DataFrame([material.__dict__ for material in dielectric_doc])\n",
    "df_dielectric = df_dielectric[properties_dielectric]\n",
    "df_dielectric.to_csv(\"dielectric_doc\")"
   ]
  },
  {
   "cell_type": "code",
   "execution_count": null,
   "id": "39b14b21-b9fe-4ecc-a09f-898f0a683645",
   "metadata": {},
   "outputs": [],
   "source": [
    "#Seba#\n",
    "with MPRester(api_key) as mpr:\n",
    "    oxidation_states_doc = mpr.materials.oxidation_states.search(fields = properties_oxidate_states)\n",
    "\n",
    "import pandas as pd\n",
    "import matplotlib.pyplot as plt\n",
    "\n",
    "df_oxidation_states = pd.DataFrame([material.__dict__ for material in oxidation_states_doc])\n",
    "df_oxidation_states = df_oxidation_states[properties_oxidate_states]\n",
    "df_oxidation_states.to_csv(\"oxidation_states_doc\")"
   ]
  }
 ],
 "metadata": {
  "kernelspec": {
   "display_name": "Python 3 (ipykernel)",
   "language": "python",
   "name": "python3"
  },
  "language_info": {
   "codemirror_mode": {
    "name": "ipython",
    "version": 3
   },
   "file_extension": ".py",
   "mimetype": "text/x-python",
   "name": "python",
   "nbconvert_exporter": "python",
   "pygments_lexer": "ipython3",
   "version": "3.10.7"
  }
 },
 "nbformat": 4,
 "nbformat_minor": 5
}
